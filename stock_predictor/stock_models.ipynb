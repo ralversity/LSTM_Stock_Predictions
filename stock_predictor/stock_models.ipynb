{
 "cells": [
  {
   "cell_type": "markdown",
   "id": "9db78275",
   "metadata": {},
   "source": [
    "# This file reads images from folders of generated plots from the lstm.ipynb file in order to allow users to look back at previously generated plots"
   ]
  },
  {
   "cell_type": "code",
   "execution_count": null,
   "id": "85d8bbdb",
   "metadata": {},
   "outputs": [],
   "source": [
    "# import libraries for pulling images of plots in\n",
    "import matplotlib.pyplot as plt\n",
    "import matplotlib.image as mpimg\n",
    "import os\n",
    "\n",
    "# Define style of plots\n",
    "plt.style.use('fivethirtyeight')"
   ]
  },
  {
   "cell_type": "code",
   "execution_count": null,
   "id": "1ba462b8",
   "metadata": {
    "scrolled": false
   },
   "outputs": [],
   "source": [
    "\n",
    "# While loop to reprompt user to check more data\n",
    "rerun = True\n",
    "while rerun == True:\n",
    "    print(\"\\nThe folders available in the models folder are:\")\n",
    "    # Checks if any models have been created and exits if none exist\n",
    "    if len(os.listdir(\"models\")) == 0:\n",
    "        print(\"No models have been created. Please run the LSTM program to create a model\\n\")\n",
    "        break\n",
    "    else:\n",
    "        # prints all folder names in models folder\n",
    "        for folder_name in os.listdir(\"models\"):\n",
    "            print(folder_name)\n",
    "        \n",
    "        # Takes user input and checks if the folder exists\n",
    "        # If it does not, prompts user to try again and restarts loop\n",
    "        folder = input(\"\"\"Enter the folder name for the stock you'd like to \n",
    "see the visualizations for: \"\"\").upper()\n",
    "        if not os.path.isdir(f\"models/{folder}\"):\n",
    "            print(\"\\n\\nInputted folder name does not exist try again\")\n",
    "            continue\n",
    "        \n",
    "        # Loops through each image in the folder inputted\n",
    "        # Displays each image of models for specific stock\n",
    "        for image in os.listdir(f\"models/{folder}/\"):\n",
    "            \n",
    "            image = mpimg.imread(f\"models/{folder}/{image}\")\n",
    "            plt.figure(figsize=(16,8))\n",
    "            plt.axis('off')\n",
    "            plt.imshow(image)\n",
    "            plt.show()\n",
    "        \n",
    "        # Prompts user to look at another model\n",
    "        while True: \n",
    "            repeat_check = input(\"\\n\\nWould you like to look at another model(Y/N)?: \")\n",
    "            if repeat_check.upper() == 'Y':\n",
    "                break\n",
    "            elif repeat_check.upper() == 'N':\n",
    "                rerun = False\n",
    "                break\n",
    "            else:\n",
    "                print(\"Invalid input, Try again\\n\")"
   ]
  }
 ],
 "metadata": {
  "kernelspec": {
   "display_name": "Python 3 (ipykernel)",
   "language": "python",
   "name": "python3"
  },
  "language_info": {
   "codemirror_mode": {
    "name": "ipython",
    "version": 3
   },
   "file_extension": ".py",
   "mimetype": "text/x-python",
   "name": "python",
   "nbconvert_exporter": "python",
   "pygments_lexer": "ipython3",
   "version": "3.9.7"
  }
 },
 "nbformat": 4,
 "nbformat_minor": 5
}
