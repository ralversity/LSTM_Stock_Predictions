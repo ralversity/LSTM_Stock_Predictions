{
 "cells": [
  {
   "cell_type": "markdown",
   "id": "9db78275",
   "metadata": {},
   "source": [
    "# This program uses an artificial recurrent neural network called Long Short Term Memory (LSTM) to predict the closing stock price of a company (User Specified) using the past 5 years of stock prices.\n",
    "\n",
    "# It also allows the user to predict the following next future day close price by using the past 60 days and previous training of the model"
   ]
  },
  {
   "cell_type": "code",
   "execution_count": null,
   "id": "85d8bbdb",
   "metadata": {},
   "outputs": [],
   "source": [
    "import os\n",
    "# Removes tensorflow cuda warning\n",
    "# This warning is only applicable if user\n",
    "# has an NVidia graphics card. but does not\n",
    "# change the output or functionality of the code\n",
    "os.environ['TF_CPP_MIN_LOG_LEVEL'] = '3'\n",
    "import math\n",
    "import datetime\n",
    "from sklearn.preprocessing import MinMaxScaler # Used for scaling data from 0-1 for normalization\n",
    "from tensorflow.python.keras import Sequential # Turns a model into a Sequential object for training methods\n",
    "from tensorflow.python.keras.layers import Dense, LSTM # Used for adding layers to the Sequential Object\n",
    "import pandas_datareader as web # Used for pulling stock data from yahoo finance\n",
    "# Used for checking user input of stock choice with try-except block to catch invalid inputs\n",
    "from pandas_datareader._utils import RemoteDataError\n",
    "import numpy as np # Used for arranging and reshaping data to fit LSTM model\n",
    "import pandas as pd # Used to create a dataframe of data in order to filter data\n",
    "import matplotlib.pyplot as plt # Used for visualizations of the data\n",
    "\n",
    "\n",
    "# Get rid of false-positive warning messages\n",
    "# The program runs as expected these warnings\n",
    "# are not crucial to functionality\n",
    "pd.options.mode.chained_assignment = None\n",
    "plt.style.use('fivethirtyeight')"
   ]
  },
  {
   "cell_type": "code",
   "execution_count": null,
   "id": "f5f185c7",
   "metadata": {},
   "outputs": [],
   "source": [
    "# Creates two date variables for use in the loop below\n",
    "current_date = datetime.date.today()\n",
    "past_date = current_date.replace(year=current_date.year - 5)\n",
    "\n",
    "# Takes in user input for a stock symbol and then pulls the stock data\n",
    "# from yahoo finance using the symbol provided\n",
    "# Loops until user inputs a valid stock symbol choice\n",
    "while True:\n",
    "    try:\n",
    "        \n",
    "        stock = input(\"\"\"Note: Stock data is pulled from yahoo finance.\n",
    "Available stock choices can be found on finance.yahoo.com\\n\n",
    "Enter stock symbol for the stock you'd like to see data on: \n",
    "(Ex: GOOG for Google, AAPL for Apple): \"\"\").upper()\n",
    "        \n",
    "        # Reads stock data from yahoo finance using user-inputted stock symbol\n",
    "        # Uses the current day's date as the end date and then 5 years prior to\n",
    "        # the current date for the start date in order to pull 5 years of data\n",
    "        df = web.DataReader(stock, data_source='yahoo', start=past_date, end=current_date)\n",
    "        break\n",
    "        \n",
    "    except RemoteDataError:\n",
    "        print(\"Stock choice invalid. Please try again.\")"
   ]
  },
  {
   "cell_type": "code",
   "execution_count": null,
   "id": "d2d61acf",
   "metadata": {},
   "outputs": [],
   "source": [
    "print(\"\\nThe raw dataset from yahoo finance contains the following: \")\n",
    "display(df)\n",
    "\n",
    "print(f\"\\n\\n\\n Here is the raw Close Price History for {stock}: \")\n",
    "\n",
    "# Visualize the raw closing price history of stock choice in a line graph\n",
    "plt.figure(figsize=(16, 8))\n",
    "plt.title(f'{stock} Close Price History')\n",
    "# Plots only the Close price data\n",
    "plt.plot(df['Close'])\n",
    "plt.xlabel('Date', fontsize=18)\n",
    "plt.ylabel('Close Price USD ($)', fontsize=18)\n",
    "plt.show()\n"
   ]
  },
  {
   "cell_type": "code",
   "execution_count": null,
   "id": "616cc589",
   "metadata": {},
   "outputs": [],
   "source": [
    "# Creates a new dataframe that contains only the Close price data\n",
    "data = df.filter(['Close'])\n",
    "\n",
    "print(f\"\\nThe filtered raw dataset for close prices is:\")\n",
    "display(data)\n",
    "print(\"\\n\\n\")\n",
    "\n",
    "# Creates copy of dataframe\n",
    "# Creates primary keys then writes to raw csv file\n",
    "data_csv = data.copy()\n",
    "primary_keys = []\n",
    "for num in range(len(data)):\n",
    "    primary_keys.append(num+1)\n",
    "data_csv['PK'] = primary_keys\n",
    "data_csv = data_csv[['PK', 'Close']]\n",
    "data_csv\n",
    "\n",
    "# Creates folder within data folder for stock if\n",
    "# it does not exist\n",
    "if not os.path.isdir(f\"data/{stock}\"):\n",
    "    os.mkdir(f\"data/{stock}\")\n",
    "\n",
    "# Creates a raw data csv file\n",
    "data_csv.to_csv(f\"data/{stock}/{stock}_raw.csv\")\n",
    "\n",
    "\n",
    "# Converts the dataframe into a numpy array\n",
    "dataset = data.values\n",
    "\n",
    "# Get the number of rows to train the model on\n",
    "# math.ceil used to round up and not have real number as value\n",
    "# Takes 85% of data set\n",
    "training_data_len = math.ceil(len(dataset) * .85)"
   ]
  },
  {
   "cell_type": "code",
   "execution_count": null,
   "id": "c0572690",
   "metadata": {},
   "outputs": [],
   "source": [
    "# Scale, fit, and transform the data to 0-1 inclusive\n",
    "scaler = MinMaxScaler(feature_range=(0,1))\n",
    "scaled_data = scaler.fit_transform(dataset)\n",
    "scaled_data"
   ]
  },
  {
   "cell_type": "code",
   "execution_count": null,
   "id": "0edec01f",
   "metadata": {},
   "outputs": [],
   "source": [
    "# Create the scaled training data set\n",
    "# This grabs the data up to the cutoff in order to only grab data\n",
    "# we want to train the model with\n",
    "train_data = scaled_data[0:training_data_len , :]\n",
    "\n",
    "\n",
    "# Create two empty training data lists\n",
    "x_train = []\n",
    "y_train = []\n",
    "\n",
    "\n",
    "# x_train - contains past 60 values each passthrough\n",
    "# y_train - contains next value each passthrough\n",
    "# This allows 60 values to be used to train for a predition on the value after\n",
    "# Each cycle then uses the previous prediction for the next\n",
    "for num in range(60, len(train_data)):\n",
    "    x_train.append(train_data[num-60:num, 0])\n",
    "    y_train.append(train_data[num, 0])"
   ]
  },
  {
   "cell_type": "code",
   "execution_count": null,
   "id": "eb028c7d",
   "metadata": {},
   "outputs": [],
   "source": [
    "# Converts both training sets to numpy arrays for reshaping\n",
    "x_train = np.array(x_train)\n",
    "y_train = np.array(y_train)"
   ]
  },
  {
   "cell_type": "code",
   "execution_count": null,
   "id": "8c84a291",
   "metadata": {},
   "outputs": [],
   "source": [
    "# Re-shape the data\n",
    "# LSTM needs 3-dimensional data, currently the arrays are 2-dimensional\n",
    "x_train = np.reshape(x_train, (x_train.shape[0], x_train.shape[1], 1))\n",
    "x_train.shape"
   ]
  },
  {
   "cell_type": "code",
   "execution_count": null,
   "id": "4db5674b",
   "metadata": {},
   "outputs": [],
   "source": [
    "# This creates a Sequential model and builds the LSTM model from it\n",
    "# This is done by adding 4 layers, 2 LSTM layers and 2 dense layers for the 2 LSTM layers\n",
    "# The Dense layers are for connecting the outputs and data together for continuous learning\n",
    "# The LSTM model is what uses the data itself in order to make the predictions with help of\n",
    "# the connections through Dense layers.\n",
    "# The input shape of LSTM is supposed to be (60, 1) similar to the for loop above for\n",
    "# the training data. x_train.shape[1] is equal to 60 here and provides a better robust\n",
    "# way of setting the input shape\n",
    "model = Sequential()\n",
    "model.add(LSTM(50, return_sequences=True, input_shape=(x_train.shape[1], 1)))\n",
    "model.add(LSTM(50, return_sequences=False))\n",
    "model.add(Dense(25))\n",
    "model.add(Dense(1))"
   ]
  },
  {
   "cell_type": "code",
   "execution_count": null,
   "id": "3b51db0d",
   "metadata": {},
   "outputs": [],
   "source": [
    "# Compiles the model using adam optimized and mean_squared_error for the loss\n",
    "# Accuracy is calculated later using mean_squared_error as well\n",
    "# adam optimizer is widely used for deep learning models such as LSTM\n",
    "# as it is very efficient\n",
    "model.compile(optimizer='adam', loss='mean_squared_error')"
   ]
  },
  {
   "cell_type": "code",
   "execution_count": null,
   "id": "88568916",
   "metadata": {},
   "outputs": [],
   "source": [
    "print(\"\\n\\nTraining model... Please wait...\\n\")\n",
    "\n",
    "# Trains the model using the training data created\n",
    "# batch_size is how big the training sets are and epochs is the number\n",
    "# of iterations of batches. \n",
    "# These values could be changed for better or worse accuracy\n",
    "# This combination resulted in relatively good accuracy without\n",
    "# a huge runtime cost.\n",
    "model.fit(x_train, y_train, batch_size=64, epochs=40)"
   ]
  },
  {
   "cell_type": "code",
   "execution_count": null,
   "id": "ad79cc1c",
   "metadata": {},
   "outputs": [],
   "source": [
    "# Creates another test data set containing \n",
    "# the rest of the data not used in the training sets\n",
    "test_data = scaled_data[training_data_len - 60: , :]\n",
    "# Creates two new lists with one being empty\n",
    "# and the other y_test containing the training values\n",
    "x_test = []\n",
    "y_test = dataset[training_data_len:, :]\n",
    "\n",
    "# Appends the data that wasn't trained on to x_test\n",
    "for num in range(60, len(test_data)):\n",
    "    x_test.append(test_data[num-60:num, 0])\n",
    "    \n"
   ]
  },
  {
   "cell_type": "code",
   "execution_count": null,
   "id": "ae4f24d9",
   "metadata": {},
   "outputs": [],
   "source": [
    "# Convert the x_test data to a numpy array\n",
    "x_test = np.array(x_test)"
   ]
  },
  {
   "cell_type": "code",
   "execution_count": null,
   "id": "5e7e6647",
   "metadata": {},
   "outputs": [],
   "source": [
    "# Re-shape this data for LSTM model 2d-3d\n",
    "x_test = np.reshape(x_test, (x_test.shape[0], x_test.shape[1], 1))"
   ]
  },
  {
   "cell_type": "code",
   "execution_count": null,
   "id": "0da5af2d",
   "metadata": {},
   "outputs": [],
   "source": [
    "# Gets the models predicted values for the values\n",
    "# that were not trained on \n",
    "predictions = model.predict(x_test)\n",
    "\n",
    "# Inverse transforming the data\n",
    "# This unscales the values back to non 0-1\n",
    "# in order for us to see the real prices\n",
    "predictions = scaler.inverse_transform(predictions)"
   ]
  },
  {
   "cell_type": "code",
   "execution_count": null,
   "id": "d01d5112",
   "metadata": {},
   "outputs": [],
   "source": [
    "# Get the root mean squared error (RMSE) - Measure of how accurate the model is\n",
    "# lower number = better fit\n",
    "rmse = np.sqrt(np.mean(((y_test - predictions)**2)))\n",
    "rmse\n",
    "\n",
    "# Root mean squared percentage error\n",
    "rmspe = np.sqrt(np.mean(np.square(((y_test - predictions) / y_test)), axis=0))\n",
    "rmspe = rmspe[0] * 100\n",
    "\n",
    "# round values to 2 decimal places\n",
    "rmse = round(rmse, 2)\n",
    "rmspe = round(rmspe, 2)\n",
    "\n",
    "print(f\"\\n\\n The rmse(root mean square error) for the {stock} predictions is: ${rmse}\")\n",
    "print(f\"\\n The rmspe(root mean square percent error) for the {stock} predictions is: {rmspe}%\")\n",
    "print(f\"\\n This means the average difference between the actual close prices\" \n",
    "f\" and the prediction prices from the model is: \\n${rmse} or {rmspe}%\")"
   ]
  },
  {
   "cell_type": "code",
   "execution_count": null,
   "id": "1ebd2131",
   "metadata": {
    "scrolled": false
   },
   "outputs": [],
   "source": [
    "# Sets training_data = closing prices up to the training_data_len\n",
    "training_data = data[:training_data_len]\n",
    "# Sets prediction_data to the data after training_data_len\n",
    "prediction_data = data[training_data_len:]\n",
    "# Creates another key 'Predictions' and sets it equal to the un-scaled\n",
    "# prediction values for the close prices in the prediction_data dataset\n",
    "prediction_data['Predictions'] = predictions\n",
    "\n",
    "print(f\"\\n\\n The prediction data set:\")\n",
    "display(prediction_data)\n",
    "print(\"\\n\\n\")\n",
    "\n",
    "# Create folder for model images if it does not exist\n",
    "if not os.path.isdir(f\"models/{stock}\"):\n",
    "    os.mkdir(f\"models/{stock}\")\n",
    "\n",
    "\n",
    "print(f\"\\n\\nHere are the graphs created using the predictions generated for {stock}: \")\n",
    "# Visualize the training and predictions in a line graph\n",
    "# This shows a big look of the overall stock trend and \n",
    "# a small look at the predictions compared to the actual\n",
    "# close prices\n",
    "plt.figure(figsize=(16,8))\n",
    "plt.title(f'{stock} Predictions Model With Training')\n",
    "plt.xlabel('Year', fontsize=18)\n",
    "plt.ylabel('Close Price ($)', fontsize=18)\n",
    "# Plots training data close data, and prediction close and predictions data\n",
    "plt.plot(training_data['Close'])\n",
    "plt.plot(prediction_data[['Close', 'Predictions']])\n",
    "plt.legend(['Training', 'Real Values', 'Predictions'], loc='lower right')\n",
    "plt.savefig(f'models/{stock}/{stock}_predictions_with_training.png')\n",
    "plt.show()\n"
   ]
  },
  {
   "cell_type": "code",
   "execution_count": null,
   "id": "5a1fb8a4",
   "metadata": {},
   "outputs": [],
   "source": [
    "print(\"\\n\\n\")\n",
    "\n",
    "# Plots another line graph displaying a more close up represenation\n",
    "# of only the Close vs prediction data without training data\n",
    "# This shows a much closer look at the trends the predictions\n",
    "# were making and the trend of the price of the stock\n",
    "plt.figure(figsize=(16,8))\n",
    "plt.title(f'{stock} Predictions Model Without Training')\n",
    "plt.xlabel('Date', fontsize=18)\n",
    "plt.ylabel('Close Price ($)', fontsize=18)\n",
    "plt.plot(prediction_data[['Close', 'Predictions']])\n",
    "plt.legend(['Real Values', 'Predictions'], loc='lower right')\n",
    "plt.savefig(f'models/{stock}/{stock}_predictions_without_training.png')"
   ]
  },
  {
   "cell_type": "code",
   "execution_count": null,
   "id": "3da1603d",
   "metadata": {},
   "outputs": [],
   "source": [
    "print(\"\\n\\n\")\n",
    "# Creates a Histogram of the close vs prediction prices\n",
    "# This is useful to see another look at the accuracy of \n",
    "# the predictions vs the actual close prices in different\n",
    "# price categories\n",
    "plt.hist(prediction_data, bins='auto')\n",
    "plt.legend(['Actual','Predictions'], loc='upper right')\n",
    "plt.title(f\"Histogram of {stock} prices\")\n",
    "plt.xlabel('Price')\n",
    "plt.ylabel('Number of Actual Closes at price')\n",
    "plt.savefig(f'models/{stock}/{stock}_predictions_histogram.png')"
   ]
  },
  {
   "cell_type": "code",
   "execution_count": null,
   "id": "cdcf25f0",
   "metadata": {},
   "outputs": [],
   "source": [
    "print(\"\\n\\n\")\n",
    "# Creates a scatterplot of the data\n",
    "# This displays and represents accuracy by\n",
    "# showing how clustered points are\n",
    "# if there are more clustered points in the graph\n",
    "# then there is more accuracy within the predictions\n",
    "plt.scatter(prediction_data['Close'], prediction_data['Predictions'])\n",
    "plt.title(f'Scatterplot of {stock} prices')\n",
    "plt.xlabel('Close ($)')\n",
    "plt.ylabel('Predictions ($)')\n",
    "plt.savefig(f'models/{stock}/{stock}_predictions_scatterplot.png')"
   ]
  },
  {
   "cell_type": "code",
   "execution_count": null,
   "id": "eec1e0c9",
   "metadata": {
    "scrolled": false
   },
   "outputs": [],
   "source": [
    "# Saves closing and prediction prices to a csv file\n",
    "\n",
    "# Creates copy of dataframe\n",
    "# Creates primary keys then writes to raw csv file\n",
    "data_csv = prediction_data.copy()\n",
    "primary_keys = []\n",
    "for num in range(len(data_csv)):\n",
    "    primary_keys.append(num+1)\n",
    "data_csv['PK'] = primary_keys\n",
    "data_csv = data_csv[['PK', 'Close']]\n",
    "\n",
    "# Creates a raw data csv file\n",
    "data_csv.to_csv(f\"data/{stock}/{stock}_predictions.csv\")\n"
   ]
  },
  {
   "cell_type": "code",
   "execution_count": null,
   "id": "45cbb484",
   "metadata": {},
   "outputs": [],
   "source": [
    "# This section uses a similar method as previously used in order to \n",
    "# Create a predicted close price for the stock on the next business day\n",
    "future_price = web.DataReader(stock, data_source='yahoo', start=past_date, end=current_date)\n",
    "\n",
    "future_df = future_price.filter(['Close'])\n",
    "\n",
    "# Get the last 60 day closing price values\n",
    "previous_60_days = future_df[-60:].values\n",
    "\n",
    "# Scale the data to be values between 0 and 1\n",
    "previous_60_days_scaled = scaler.transform(previous_60_days)\n",
    "\n",
    "# Create an empty list\n",
    "x_future = []\n",
    "\n",
    "# Append the scaled data and turn data into a numpy array\n",
    "x_future.append(previous_60_days_scaled)\n",
    "x_future = np.array(x_future)\n",
    "\n",
    "# Re-shape data into 3d array for model\n",
    "x_future = np.reshape(x_future, (x_future.shape[0], x_future.shape[1], 1))\n",
    "\n",
    "# Predict the price for next day\n",
    "predicted_price = model.predict(x_future)\n",
    "\n",
    "# Undo the scaling\n",
    "predicted_price = scaler.inverse_transform(predicted_price)\n",
    "predicted_price = predicted_price[0][0]\n",
    "\n",
    "print(f\"\\n\\n The prediction data set is:\")\n",
    "display(prediction_data)\n",
    "\n",
    "# print predicted price for next day\n",
    "print(f\"\\nAnd the predicted price for {stock} stock\" \n",
    "f\" on {current_date.replace(day=current_date.day + 1)} is: ${predicted_price}\")"
   ]
  },
  {
   "cell_type": "code",
   "execution_count": null,
   "id": "e5701c8a",
   "metadata": {},
   "outputs": [],
   "source": []
  }
 ],
 "metadata": {
  "kernelspec": {
   "display_name": "Python 3 (ipykernel)",
   "language": "python",
   "name": "python3"
  },
  "language_info": {
   "codemirror_mode": {
    "name": "ipython",
    "version": 3
   },
   "file_extension": ".py",
   "mimetype": "text/x-python",
   "name": "python",
   "nbconvert_exporter": "python",
   "pygments_lexer": "ipython3",
   "version": "3.9.7"
  }
 },
 "nbformat": 4,
 "nbformat_minor": 5
}
