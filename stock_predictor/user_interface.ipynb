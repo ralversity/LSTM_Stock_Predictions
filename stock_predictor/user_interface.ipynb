{
 "cells": [
  {
   "cell_type": "markdown",
   "id": "615f8bd6",
   "metadata": {},
   "source": [
    "# This is the user interface for a simple prompt to run the lstm.ipynb program and run the model lookup - stock_models.ipynb"
   ]
  },
  {
   "cell_type": "code",
   "execution_count": null,
   "id": "30ef9e34",
   "metadata": {
    "scrolled": false
   },
   "outputs": [],
   "source": [
    "# Turning off tensorflow debugging\n",
    "# This is to get rid of warnings related to not using a\n",
    "# Nvidia graphics card in case users are running on AMD\n",
    "# The program runs as intended regardless\n",
    "import os\n",
    "os.environ['TF_CPP_MIN_LOG_LEVEL'] = '3' \n",
    "\n",
    "# Loops until user enters 3 to break\n",
    "while True:\n",
    "    user_input = input(\"\"\"\\n\\nEnter your choice for what you'd like to do:\n",
    "            1. Run LSTM program on a stock of your choice\n",
    "            2. See current generated models of stocks created in models folder\n",
    "            3. Exit Program\n",
    "            \"\"\")\n",
    "    \n",
    "    if user_input == '1':\n",
    "        %run lstm.ipynb\n",
    "    elif user_input == '2':\n",
    "        %run stock_models.ipynb\n",
    "    elif user_input == '3':\n",
    "        print(\"Good bye\\n\")\n",
    "        break\n",
    "    else:\n",
    "        print(\"Invalid input. Please try again.\\n\")\n",
    "    "
   ]
  }
 ],
 "metadata": {
  "kernelspec": {
   "display_name": "Python 3 (ipykernel)",
   "language": "python",
   "name": "python3"
  },
  "language_info": {
   "codemirror_mode": {
    "name": "ipython",
    "version": 3
   },
   "file_extension": ".py",
   "mimetype": "text/x-python",
   "name": "python",
   "nbconvert_exporter": "python",
   "pygments_lexer": "ipython3",
   "version": "3.9.7"
  }
 },
 "nbformat": 4,
 "nbformat_minor": 5
}
